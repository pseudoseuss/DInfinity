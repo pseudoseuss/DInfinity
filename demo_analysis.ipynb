### Demo Analysis Notebook

# This notebook demonstrates the full modular resonance pipeline:
# 1. Construct modular Dirac matrix
# 2. Compute spectrum and compress
# 3. Compare to zeta zeros
# 4. Plot modular zeta and zero crossings
# 5. Show spacing histogram

import numpy as np
import matplotlib.pyplot as plt
from modular_dirac import build_modular_dirac
from trace_zeta import modular_zeta_trace
from zero_comparison import load_zeta_zeros, compare_spectra
from spectral_statistics import plot_spacing_histogram
from visualize_criticalline import plot_criticalline

# --- Parameters ---
N = 400
s = 1.0
P = 997  # prime cutoff

# --- Step 1: Construct modular Dirac operator ---
print("Building modular Dirac matrix D_N...")
D = build_modular_dirac(N, s=s, P=P)

# --- Step 2: Compute spectrum ---
print("Computing eigenvalues...")
lam = np.linalg.eigvalsh(D)
lam_sorted = np.sort(lam)
lam_compressed = np.tanh(lam_sorted)

# --- Step 3: Compare to zeta zeros ---
print("Loading zeta zeros and computing correlation...")
zeta_zeros = load_zeta_zeros(N)
compare_spectra(lam_compressed, zeta_zeros, plot=True)

# --- Step 4: Modular zeta function visualization ---
print("Plotting critical line...")
plot_criticalline(lam_compressed)

# --- Step 5: Spacing histogram ---
print("Plotting level spacings vs GUE...")
plot_spacing_histogram(lam_compressed)

print("\nDemo analysis complete.")
